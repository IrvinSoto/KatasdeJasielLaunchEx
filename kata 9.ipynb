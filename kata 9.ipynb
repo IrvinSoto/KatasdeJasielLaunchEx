{
 "cells": [
  {
   "cell_type": "markdown",
   "metadata": {},
   "source": [
    "# Ejercicio 1: trabajar con argumentos en funciones"
   ]
  },
  {
   "cell_type": "code",
   "execution_count": 6,
   "metadata": {},
   "outputs": [],
   "source": [
    "def tanques_combustible(tanque_1, tanque_2, tanque_3):\n",
    "    promedio_total_tanques = (tanque_1 + tanque_2 + tanque_3) / 3\n",
    "    return f\"\"\"reporte de combustible:\n",
    "    Promedio total: {promedio_total_tanques}%\n",
    "    Tanque 1: {tanque_1}%\n",
    "    Tanque 2: {tanque_2}%\n",
    "    Tanque 3: {tanque_3}%\n",
    "    \"\"\""
   ]
  },
  {
   "cell_type": "code",
   "execution_count": 7,
   "metadata": {},
   "outputs": [
    {
     "name": "stdout",
     "output_type": "stream",
     "text": [
      "reporte de combustible:\n",
      "    Promedio total: 43.333333333333336%\n",
      "    Tanque 1: 50%\n",
      "    Tanque 2: 20%\n",
      "    Tanque 3: 60%\n",
      "    \n"
     ]
    }
   ],
   "source": [
    "print(tanques_combustible(50, 20, 60))"
   ]
  },
  {
   "cell_type": "code",
   "execution_count": 9,
   "metadata": {},
   "outputs": [
    {
     "data": {
      "text/plain": [
       "82.0"
      ]
     },
     "execution_count": 9,
     "metadata": {},
     "output_type": "execute_result"
    }
   ],
   "source": [
    "def promedios(values):\n",
    "    total = sum(values)\n",
    "    numero_de_elementos = len(values)\n",
    "    return total / numero_de_elementos\n",
    "\n",
    "promedios([80, 85, 81])"
   ]
  },
  {
   "cell_type": "code",
   "execution_count": 10,
   "metadata": {},
   "outputs": [
    {
     "name": "stdout",
     "output_type": "stream",
     "text": [
      "reporte de combustible:\n",
      "    Promedio total: 75.33333333333333%\n",
      "    Tanque 1: 80%\n",
      "    Tanque 2: 76%\n",
      "    Tanque 3: 70%\n",
      "    \n"
     ]
    }
   ],
   "source": [
    "def tanques_combustible(tanque_1, tanque_2, tanque_3):\n",
    "    return f\"\"\"reporte de combustible:\n",
    "    Promedio total: {promedios([tanque_1, tanque_2, tanque_3])}%\n",
    "    Tanque 1: {tanque_1}%\n",
    "    Tanque 2: {tanque_2}%\n",
    "    Tanque 3: {tanque_3}%\n",
    "    \"\"\"\n",
    "print(tanques_combustible(80, 76, 70))"
   ]
  },
  {
   "cell_type": "code",
   "execution_count": null,
   "metadata": {},
   "outputs": [],
   "source": [
    "from datetime import timedelta, datetime"
   ]
  },
  {
   "cell_type": "code",
   "execution_count": 20,
   "metadata": {},
   "outputs": [
    {
     "name": "stdout",
     "output_type": "stream",
     "text": [
      "\n",
      "    Mision a Luna\n",
      "    Tiempo total de vuelo: 45 minutes\n",
      "    Combustible total: 5000000 litros\n",
      "    \n"
     ]
    }
   ],
   "source": [
    "def info_misión(pre_lanzamiento, tiempo_vuelo, destino, tanque_externo, tanque_interno):\n",
    "    return f\"\"\"\n",
    "    Mision a {destino}\n",
    "    Tiempo total de vuelo: {pre_lanzamiento + tiempo_vuelo} minutes\n",
    "    Combustible total: {tanque_externo + tanque_interno} litros\n",
    "    \"\"\"\n",
    "print(info_misión(15, 30, \"Luna\", 2000000, 3000000))\n"
   ]
  },
  {
   "cell_type": "code",
   "execution_count": 23,
   "metadata": {},
   "outputs": [
    {
     "name": "stdout",
     "output_type": "stream",
     "text": [
      "\n",
      "    Mission a Luna\n",
      "    Tiempo total de vuelo: 76 minutos\n",
      "    combustible total: 500000\n",
      "    \n"
     ]
    }
   ],
   "source": [
    "def info_misión(destino, *minutos, **tanques_reserva):\n",
    "    return f\"\"\"\n",
    "    Mission a {destino}\n",
    "    Tiempo total de vuelo: {sum(minutos)} minutos\n",
    "    combustible total: {sum(tanques_reserva.values())}\n",
    "    \"\"\"\n",
    "print(info_misión(\"Luna\", 10, 20, 46, externo=300000, interno=200000))\n"
   ]
  },
  {
   "cell_type": "code",
   "execution_count": 28,
   "metadata": {},
   "outputs": [
    {
     "name": "stdout",
     "output_type": "stream",
     "text": [
      "\n",
      "    Mission a luna\n",
      "    Tiempo total de vuelo: 77 minutos\n",
      "    combustible total: 930\n",
      "    tanque externo --> 360 litros total\n",
      "tanque interno --> 570 litros total\n",
      "\n"
     ]
    }
   ],
   "source": [
    "def info_misión(destino, *minutos, **tanques_reserva):\n",
    "    reporte_principal = f\"\"\"\n",
    "    Mission a {destino}\n",
    "    Tiempo total de vuelo: {sum(minutos)} minutos\n",
    "    combustible total: {sum(tanques_reserva.values())}\n",
    "    \"\"\"\n",
    "    for nombre_tanque, litros in tanques_reserva.items():\n",
    "        reporte_principal += f\"tanque {nombre_tanque} --> {litros} litros total\\n\"\n",
    "    return reporte_principal\n",
    "print(info_misión(\"luna\", 10, 20, 47, externo=360, interno=570))"
   ]
  }
 ],
 "metadata": {
  "interpreter": {
   "hash": "da25b4755d67d428b8b123e995f0b5a97d3b423564bcfffc9e80246702fda9a8"
  },
  "kernelspec": {
   "display_name": "Python 3.10.2 64-bit",
   "language": "python",
   "name": "python3"
  },
  "language_info": {
   "codemirror_mode": {
    "name": "ipython",
    "version": 3
   },
   "file_extension": ".py",
   "mimetype": "text/x-python",
   "name": "python",
   "nbconvert_exporter": "python",
   "pygments_lexer": "ipython3",
   "version": "3.10.2"
  },
  "orig_nbformat": 4
 },
 "nbformat": 4,
 "nbformat_minor": 2
}
